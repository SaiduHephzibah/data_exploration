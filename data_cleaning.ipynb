{
 "cells": [
  {
   "cell_type": "markdown",
   "metadata": {},
   "source": [
    "nulls slashes and empty spaces represent no data"
   ]
  },
  {
   "cell_type": "markdown",
   "metadata": {},
   "source": [
    "filling absent data wth usefull data= INPUTTATION technique"
   ]
  },
  {
   "cell_type": "markdown",
   "metadata": {},
   "source": [
    "if % of missing data is more then perform statistical inputation \n",
    "(mean,median mode(for non null) and substitute them in missing places(mean imputation,etc))\n",
    "else delete rows"
   ]
  },
  {
   "cell_type": "markdown",
   "metadata": {},
   "source": [
    "for numerical =mean imutation      \n",
    "characterical=mode"
   ]
  },
  {
   "cell_type": "code",
   "execution_count": null,
   "metadata": {},
   "outputs": [],
   "source": []
  }
 ],
 "metadata": {
  "kernelspec": {
   "display_name": "Python 3",
   "language": "python",
   "name": "python3"
  },
  "language_info": {
   "codemirror_mode": {
    "name": "ipython",
    "version": 3
   },
   "file_extension": ".py",
   "mimetype": "text/x-python",
   "name": "python",
   "nbconvert_exporter": "python",
   "pygments_lexer": "ipython3",
   "version": "3.6.5"
  }
 },
 "nbformat": 4,
 "nbformat_minor": 2
}
